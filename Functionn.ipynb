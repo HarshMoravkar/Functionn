{
  "nbformat": 4,
  "nbformat_minor": 0,
  "metadata": {
    "colab": {
      "provenance": []
    },
    "kernelspec": {
      "name": "python3",
      "display_name": "Python 3"
    },
    "language_info": {
      "name": "python"
    }
  },
  "cells": [
    {
      "cell_type": "markdown",
      "source": [
        "# Functionn\n"
      ],
      "metadata": {
        "id": "23Oy6Ugbyggf"
      }
    },
    {
      "cell_type": "markdown",
      "source": [
        "Q1.What is the difference between interpreted and compiled languages?\n",
        "\n",
        "  - Interpreted Languages\n",
        "  Execution: Code is executed line-by-line by an interpreter.\n",
        "\n",
        "  Translation: Source code is translated into machine code at runtime.\n",
        "\n",
        "  Examples: Python, JavaScript, Ruby.\n",
        "\n",
        "  Advantages:\n",
        "\n",
        "  Easier to debug and test since code runs immediately.\n",
        "\n",
        "  More flexible for dynamic typing and rapid development.\n",
        "\n",
        "  Disadvantages:\n",
        "\n",
        "  Generally slower execution compared to compiled languages.\n",
        "\n",
        "  Requires the interpreter to be installed on the machine.\n",
        "\n",
        "  Compiled Languages\n",
        "  Execution: Source code is transformed (compiled) into machine code (binary) by a compiler before execution.\n",
        "\n",
        "  Translation: Happens once, before running the program.\n",
        "\n",
        "  Examples: C, C++, Rust.\n",
        "\n",
        "Q2.What is exception handling in Python?\n",
        "\n",
        "  - Exception handling in Python is a way to manage and respond to errors that occur during the execution of a program, preventing the program from crashing unexpectedly.\n",
        "  \n",
        "  When something goes wrong (like dividing by zero or accessing an invalid index), Python raises an exception.\n",
        "\n",
        "  Exception handling lets you catch these errors and decide how to handle them gracefully.\n",
        "\n",
        "Q3.What is the purpose of the finally block in exception handling?\n",
        "\n",
        "  - The finally block in Python exception handling is used to define a set of statements that will always execute, no matter what happens in the try and except blocks.\n",
        "\n",
        "  Purpose of the finally block:\n",
        "  To perform cleanup actions (like closing files, releasing resources, or closing network connections).\n",
        "\n",
        "  Ensures that certain important code runs regardless of whether an exception was raised or caught.\n",
        "\n",
        "  Helps avoid resource leaks or leaving the program in an inconsistent state.\n",
        "\n",
        "Q4.What is logging in Python?\n",
        "\n",
        "  - Logging in Python is the process of recording messages that track events or actions that happen during the execution of a program. It’s useful for debugging, monitoring, and auditing your applications.\n",
        "\n",
        "  What is Logging?\n",
        "  Instead of using print statements, logging provides a flexible framework to record messages of various severity levels (info, warning, error, etc.).\n",
        "\n",
        "  These messages can be saved to files, displayed on the console, or sent elsewhere.\n",
        "\n",
        "  Helps developers understand the flow of a program and diagnose issues.\n",
        "\n",
        "Q5.What is the significance of the __del__ method in Python?\n",
        "\n",
        "  - The __del__ method in Python is known as the destructor. It’s a special method that gets called when an object is about to be destroyed — typically when its reference count drops to zero and the garbage collector cleans it up.\n",
        "\n",
        "  Significance of __del__:\n",
        "\n",
        "  Cleanup resources: It allows you to perform any necessary cleanup before the object is removed from memory, like closing files, releasing network connections, or freeing up other resources.\n",
        "\n",
        "  Automatic invocation: You don’t call __del__ explicitly; Python calls it automatically when the object is being garbage collected.\n",
        "\n",
        "  Not guaranteed: Because of how Python’s garbage collector works (especially with circular references or when the program exits), __del__ might not always be called immediately or at all.\n",
        "\n",
        "Q6.What is the difference between import and from ... import in Python?\n",
        "\n",
        "  - 1. import statement\n",
        "\n",
        "  Imports the whole module.\n",
        "\n",
        "  You access functions, classes, or variables using the module’s name as a prefix.\n",
        "\n",
        "  2. from ... import statement\n",
        "\n",
        "  Imports specific attributes (functions, classes, variables) directly from a module.\n",
        "\n",
        "  You can use those imported items without prefixing with the module name.\n",
        "\n",
        "Q7.How can you handle multiple exceptions in Python?\n",
        "\n",
        "  -  Using multiple except blocks\n",
        "\n",
        "  Handle different exception types with separate blocks:\n",
        "\n",
        "  try:\n",
        "\n",
        "    x = int(input(\"Enter a number: \"))\n",
        "    result = 10 / x\n",
        "\n",
        "  except ValueError:\n",
        "\n",
        "      print(\"Invalid input! Please enter a valid integer.\")\n",
        "\n",
        "  except ZeroDivisionError:\n",
        "\n",
        "      print(\"Cannot divide by zero.\")\n",
        "\n",
        "      2. Handling multiple exceptions in a single except block\n",
        "\n",
        "  Use a tuple to catch multiple exceptions together:\n",
        "\n",
        "  try:\n",
        "  \n",
        "    x = int(input(\"Enter a number: \"))\n",
        "    result = 10 / x\n",
        "\n",
        "  except (ValueError, ZeroDivisionError) as e:\n",
        "\n",
        "    print(f\"Error occurred: {e}\")\n",
        "\n",
        "    3. Catching all exceptions (not recommended unless necessary)\n",
        "\n",
        "    try:\n",
        "\n",
        "    except Exception as e:\n",
        "\n",
        "    print(f\"An unexpected error occurred: {e}\")\n",
        "\n",
        "Q8.What is the purpose of the with statement when handling files in Python?\n",
        "\n",
        "  - The with statement in Python is used for simplifying resource management, especially when working with files.\n",
        "\n",
        "  Purpose of the with statement for files:\n",
        "  It automatically handles opening and closing the file, even if an error occurs.\n",
        "\n",
        "  Ensures the file is properly closed after its suite finishes, preventing resource leaks.\n",
        "\n",
        "  Makes code cleaner and less error-prone compared to manually opening and closing files.\n",
        "\n",
        "Q9.What is the difference between multithreading and multiprocessing?\n",
        "\n",
        "  - Multithreading\n",
        "\n",
        "  Definition: Multiple threads run within the same process, sharing the same memory space.\n",
        "\n",
        "  Use case: Best for I/O-bound tasks (e.g., reading files, network operations) where waiting times occur.\n",
        "\n",
        "  GIL: In Python’s standard implementation (CPython), the Global Interpreter Lock (GIL) allows only one thread to execute Python bytecode at a time, limiting true parallelism for CPU-bound tasks.\n",
        "\n",
        "  Memory: Threads share memory, which makes communication between them easy but requires synchronization (locks) to avoid conflicts.\n",
        "\n",
        "  Overhead: Lower memory overhead compared to multiprocessing.\n",
        "\n",
        "  Multiprocessing\n",
        "\n",
        "  Definition: Multiple processes run independently, each with its own Python interpreter and memory space.\n",
        "\n",
        "  Use case: Ideal for CPU-bound tasks (e.g., heavy computations) because it bypasses the GIL and allows true parallel execution.\n",
        "\n",
        "  Memory: Processes do not share memory; communication requires explicit methods like pipes or queues.\n",
        "\n",
        "  Overhead: Higher memory and startup overhead because each process is separate.\n",
        "\n",
        "  Fault tolerance: If one process crashes, it doesn’t crash the others.\n",
        "\n",
        "Q10.What are the advantages of using logging in a program?\n",
        "\n",
        "  - Advantages of Logging\n",
        "  Persistent Record Keeping\n",
        "  Logs provide a permanent record of events, errors, and system behavior, which helps in diagnosing problems later—even after the program has finished running.\n",
        "\n",
        "  Better Debugging and Troubleshooting\n",
        "  Logs help developers trace the flow of execution and identify exactly where and why errors occur.\n",
        "\n",
        "  Real-time Monitoring\n",
        "  Logging can be configured to report system status, warnings, or critical errors in real time, enabling quicker responses.\n",
        "\n",
        "  Granular Control Over Output\n",
        "  Logging allows setting levels (DEBUG, INFO, WARNING, ERROR, CRITICAL) to filter messages based on importance, reducing noise.\n",
        "\n",
        "  Flexible Output Destinations\n",
        "  Logs can be sent to various outputs such as console, files, remote servers, or logging services.\n",
        "\n",
        "  Improved Maintainability\n",
        "  With consistent logging, maintaining and updating complex systems becomes easier as you have insight into system behavior over time.\n",
        "\n",
        "  Support for Auditing and Compliance\n",
        "  Logs can serve as evidence of operations, access, or changes, which is important for security audits and regulatory compliance.\n",
        "\n",
        "Q11.What is memory management in Python?\n",
        "\n",
        "  - Memory management in Python refers to how Python handles the allocation, use, and release of memory during a program's execution. It ensures efficient use of memory resources and helps avoid leaks or crashes.\n",
        "\n",
        "  Key Aspects of Python Memory Management:\n",
        "  Automatic Memory Management\n",
        "  Python automatically manages memory allocation and deallocation for objects. You don’t manually allocate or free memory like in languages such as C.\n",
        "\n",
        "  Reference Counting\n",
        "  Every object in Python keeps track of how many references point to it. When an object’s reference count drops to zero (no references), it is immediately deallocated.\n",
        "\n",
        "  Garbage Collection\n",
        "  Python has a garbage collector to detect and clean up circular references (objects referencing each other) that reference counting alone can’t handle.\n",
        "\n",
        "  Memory Pools (PyMalloc)\n",
        "  For small objects, Python uses a specialized allocator called PyMalloc to manage memory efficiently by pooling and reusing memory blocks.\n",
        "\n",
        "  Dynamic Typing and Object Model\n",
        "  Python objects store not just data but also metadata like type information, which affects memory usage.\n",
        "\n",
        "Q12.What are the basic steps involved in exception handling in Python?\n",
        "\n",
        "  - 1. Write the code that might raise an exception inside a try block\n",
        "  2. Catch exceptions using one or more except blocks\n",
        "  3. (Optional) Use an else block\n",
        "  4. (Optional) Use a finally block\n",
        "\n",
        "Q13.Why is memory management important in Python?\n",
        "\n",
        "  - Why Memory Management is Important in Python\n",
        "\n",
        "  Efficient Use of Resources\n",
        "  Proper memory management helps Python allocate and free memory as needed, preventing wasted space and ensuring your program uses only what it requires.\n",
        "\n",
        "  Avoiding Memory Leaks\n",
        "  Without good memory management, unused objects might remain in memory indefinitely, causing your program to consume more and more memory over time, which can slow down or crash your system.\n",
        "\n",
        "  Program Stability\n",
        "  By managing memory correctly, Python helps avoid crashes and unexpected behavior that occur due to running out of memory or corrupt memory usage.\n",
        "\n",
        "  Performance Optimization\n",
        "  Managing memory efficiently contributes to faster program execution, as accessing and freeing memory is handled smoothly.\n",
        "\n",
        "  Automatic Garbage Collection\n",
        "  Python’s memory management automatically reclaims memory from objects that are no longer in use, simplifying development and reducing programmer errors.\n",
        "\n",
        "Q14.What is the role of try and except in exception handling?\n",
        "\n",
        "  - The try and except blocks are the fundamental building blocks of exception handling in Python.\n",
        "\n",
        "  Role of try\n",
        "  The try block contains the code that might raise an exception during execution.\n",
        "\n",
        "  Python runs the code inside the try block normally unless an exception occurs.\n",
        "\n",
        "  If an exception is raised, Python immediately stops executing the try block and looks for a matching except block.\n",
        "\n",
        "  Role of except\n",
        "  The except block defines how to handle specific exceptions that may be raised in the try block.\n",
        "\n",
        "  If an exception matches the exception type specified in an except block, that block executes.\n",
        "\n",
        "  This prevents the program from crashing and allows you to respond to errors gracefully.\n",
        "\n",
        "Q15.How does Python's garbage collection system work?\n",
        "\n",
        "  - Python’s garbage collection system automatically manages memory by reclaiming objects that are no longer in use, helping prevent memory leaks and optimize resource usage.\n",
        "\n",
        "  Reference Counting\n",
        "\n",
        "  Every Python object keeps track of how many references point to it (its reference count).\n",
        "\n",
        "  When the reference count drops to zero (meaning no references to the object exist), Python immediately deallocates that object and frees its memory.\n",
        "\n",
        "  Handling Circular References\n",
        "\n",
        "  Reference counting alone can’t handle circular references (objects referencing each other), which keep their reference counts above zero even if they’re unreachable.\n",
        "\n",
        "  To fix this, Python has a cyclic garbage collector that periodically looks for groups of objects involved in reference cycles and removes them if they are unreachable.\n",
        "\n",
        "  Generational Garbage Collection\n",
        "\n",
        "  Python’s cyclic GC organizes objects into generations based on their lifespan.\n",
        "\n",
        "  New objects are in the youngest generation, and older objects get promoted to older generations.\n",
        "\n",
        "  The GC runs more frequently on younger generations (where most garbage tends to appear), optimizing performance\n",
        "\n",
        "Q16.What is the purpose of the else block in exception handling?\n",
        "\n",
        "  - The else block in Python exception handling is an optional clause that runs only if the try block succeeds without raising any exceptions.\n",
        "\n",
        "  Purpose of the else block:\n",
        "  To execute code that should run only when no exceptions occur in the try block.\n",
        "\n",
        "  Keeps the try block focused strictly on the code that might raise exceptions.\n",
        "\n",
        "  Improves code readability by separating error-prone code (try) from the normal continuation code (else).\n",
        "\n",
        "Q17.What are the common logging levels in Python?\n",
        "\n",
        "  - Use DEBUG for detailed diagnostic output.\n",
        "\n",
        "  Use INFO for general runtime events.\n",
        "\n",
        "  Use WARNING to flag potential issues.\n",
        "\n",
        "  Use ERROR for serious problems.\n",
        "\n",
        "  Use CRITICAL for severe failures.\n",
        "\n",
        "Q18.What is the difference between os.fork() and multiprocessing in Python?\n",
        "\n",
        "  - The difference between os.fork() and the multiprocessing module in Python lies in how they create new processes and the level of abstraction they provide.\n",
        "\n",
        "  os.fork()\n",
        "  Low-level function used to create a new process.\n",
        "\n",
        "  Works by duplicating the current process (called the parent) into a new one (called the child).\n",
        "\n",
        "  Only available on Unix-like systems (Linux, macOS) — not available on Windows.\n",
        "\n",
        "  You must manually manage process logic (e.g. distinguishing parent vs. child using the return value).\n",
        "\n",
        "  Requires careful handling of shared resources.\n",
        "\n",
        "  multiprocessing Module\n",
        "\n",
        "  High-level API for creating and managing processes in a platform-independent way.\n",
        "\n",
        "  Works on both Windows and Unix.\n",
        "\n",
        "  Provides tools like Process, Queue, Pool, Lock, etc.\n",
        "\n",
        "  Each process runs independently with its own memory space (no shared memory by default).\n",
        "\n",
        "  Easier and safer to use for parallel computing tasks.\n",
        "\n",
        "Q19.What is the importance of closing a file in Python?\n",
        "\n",
        "  - Closing a file in Python is essential for managing system resources and ensuring data integrity. It is done using the .close() method or automatically via a with statement.\n",
        "\n",
        "  Frees System Resources\n",
        "\n",
        "  Each open file uses system memory and file descriptors.\n",
        "\n",
        "  Closing a file releases these resources so they can be used elsewhere.\n",
        "\n",
        "  Ensures Data is Written (Flushes Buffers)\n",
        "\n",
        "  When writing to a file, data is often buffered (temporarily stored in memory).\n",
        "\n",
        "  .close() flushes the buffer, ensuring all data is actually written to disk.\n",
        "\n",
        "  Prevents Data Corruption\n",
        "\n",
        "  Leaving files open increases the risk of incomplete writes, especially during crashes or power failures.\n",
        "\n",
        "  Avoids Too Many Open Files\n",
        "\n",
        "  If you forget to close files in loops or long-running programs, you may hit the system’s maximum file descriptor limit.\n",
        "\n",
        "  Improves Portability and Predictability\n",
        "\n",
        "  Explicitly closing files makes your code more robust and platform-independent.\n",
        "\n",
        "Q20.What is the difference between file.read() and file.readline() in Python?\n",
        "\n",
        "  - file.read()\n",
        "  Reads the entire file (or a specified number of characters) into a single string.\n",
        "\n",
        "  Used when you want to read all content at once.\n",
        "\n",
        "  If the file has 100 lines, read() returns one long string containing all those lines.\n",
        "\n",
        "  file.readline()\n",
        "\n",
        "  Reads a single line from the file at a time.\n",
        "\n",
        "  Each call to readline() returns the next line as a string (including the newline \\n at the end).\n",
        "\n",
        "  Useful when reading a file line by line, especially for large files.\n",
        "\n",
        "Q21.What is the logging module in Python used for/\n",
        "\n",
        "  - The logging module in Python is used for tracking events that happen while a program runs. It allows developers to record messages at different severity levels, which helps in:\n",
        "\n",
        "  Debugging\n",
        "\n",
        "  Monitoring application behavior\n",
        "\n",
        "  Error tracking\n",
        "\n",
        "  Auditing and diagnostics\n",
        "\n",
        "  Reporting normal operations (e.g. \"Server started\").\n",
        "\n",
        "  Notifying warnings or recoverable errors.\n",
        "\n",
        "  Recording critical failures that may require immediate attention.\n",
        "\n",
        "  Writing debug info for developers.\n",
        "\n",
        "Q22.What is the os module in Python used for in file handling?\n",
        "\n",
        "  - The os module in Python is used for interacting with the operating system, and it plays a vital role in file and directory handling.\n",
        "\n",
        "  it provides functions to:\n",
        "\n",
        "  Create, remove, and rename files\n",
        "\n",
        "  Navigate directories\n",
        "\n",
        "  Check file existence or properties\n",
        "\n",
        "  Work with paths in a platform-independent way\n",
        "\n",
        "Q23.What are the challenges associated with memory management in Python?\n",
        "\n",
        "  - Memory management in Python is primarily handled by the Python Memory Manager, which abstracts many of the complexities seen in lower-level languages. However, despite its automation, several challenges still persist. These challenges can affect program efficiency, scalability, and correctness.\n",
        "\n",
        "  1. Garbage Collection Overhead\n",
        "  \n",
        "  Python uses a garbage collector (GC) to reclaim memory by identifying and disposing of objects no longer in use. This is especially crucial for objects involved in circular references, where two or more objects reference each other, preventing reference counts from dropping to zero.\n",
        "\n",
        "  Performance Overhead: The garbage collector can introduce pauses or slowdowns, particularly in large applications with many objects or frequent allocations.\n",
        "\n",
        "  Unpredictable Timing: Automatic collection may occur at inopportune moments, making memory usage unpredictable.\n",
        "\n",
        "  2. Circular References\n",
        "  \n",
        "  Python's reference counting mechanism cannot automatically detect and free objects involved in circular references.\n",
        "\n",
        "  Memory Leaks: If circular references are not broken or collected by the GC, they can lead to persistent memory leaks.\n",
        "\n",
        "  Manual Intervention: Developers may need to use weak references or __del__ methods cautiously to prevent such leaks.\n",
        "\n",
        "  3. Fragmentation\n",
        "  \n",
        "  Memory fragmentation occurs when free memory is broken into small, noncontiguous blocks over time.\n",
        "\n",
        "  Inefficient Use of Memory: Fragmentation may lead to inefficient use of available memory, especially in long-running programs.\n",
        "\n",
        "  Allocation Failures: It can prevent large objects from being allocated even when sufficient total memory is available.\n",
        "\n",
        "  4. Hidden Memory Consumption\n",
        "\n",
        "  High-level abstractions and dynamic features in Python (like lists, dictionaries, classes) may hide actual memory consumption from the programmer.\n",
        "\n",
        "  Lack of Transparency: Developers may not be aware of how much memory their data structures are consuming.\n",
        "\n",
        "  Difficult Debugging: Identifying memory bottlenecks or inefficiencies may require specialized tools like tracemalloc, objgraph, or memory_profiler.\n",
        "\n",
        "  5. Global Interpreter Lock (GIL) Implications\n",
        "\n",
        "  While not directly a memory issue, Python’s Global Interpreter Lock (GIL) can complicate multi-threaded memory management.\n",
        "\n",
        "  Concurrency Limits: The GIL can lead to serialized memory operations, limiting the performance of memory-intensive multi-threaded programs.\n",
        "\n",
        "  Thread Safety: Ensuring thread safety while managing memory in extensions or native modules requires additional care.\n",
        "\n",
        "  6. Manual Resource Management\n",
        "\n",
        "  Some objects, like file handles or database connections, consume system resources that must be released explicitly.\n",
        "\n",
        "  Resource Leaks: Relying solely on garbage collection to release these resources can lead to leaks or exhaustion of system resources.\n",
        "\n",
        "  Need for Context Managers: Proper use of with statements and context managers is critical to ensure deterministic cleanup.\n",
        "\n",
        "  7. Platform and Implementation Differences\n",
        "  \n",
        "  Different Python implementations (e.g., CPython, PyPy) have varying memory models and management strategies.\n",
        "\n",
        "  Portability Concerns: Code optimized for one implementation may not perform efficiently on another.\n",
        "\n",
        "  Debugging Complexity: Identifying memory issues may require understanding implementation-specific details.\n",
        "\n",
        "Q24.How do you raise an exception manually in Python?\n",
        "\n",
        "  - In Python, you can raise an exception manually using the raise statement. This is useful when you want to indicate that an error or exceptional condition has occurred in your program.\n",
        "\n",
        "  ExceptionType can be any built-in or custom exception class (e.g., ValueError, TypeError, RuntimeError, or your own class).\n",
        "\n",
        "  \"Error message\" is an optional message that explains the reason for the exception.\n",
        "\n",
        "Q25.Why is it important to use multithreading in certain applications?\n",
        "\n",
        "  - Using multithreading is important in certain applications because it can significantly improve performance, responsiveness, and resource utilization—especially in tasks that involve waiting or can be done concurrently.\n",
        "\n",
        "  1. Improved Responsiveness\n",
        "  Especially for: User interfaces (UI), interactive applications\n",
        "  Multithreading allows the main thread (e.g. UI) to remain responsive while background threads handle time-consuming tasks like file I/O or data processing.\n",
        "\n",
        "  Example:\n",
        "  In a GUI application, one thread can manage the user interface while another handles background tasks like downloading a file.\n",
        "\n",
        "  2. Better Resource Utilization\n",
        "  Especially for: I/O-bound applications\n",
        "  When threads are waiting (e.g., for disk or network access), other threads can execute. This maximizes CPU utilization.\n",
        "\n",
        "  Example:\n",
        "  A web server handling many requests at once can assign each request to a different thread, so it doesn't block waiting for database responses or file reads.\n",
        "\n",
        "  3. Faster Execution through Concurrency\n",
        "  Especially for: Tasks that can run independently\n",
        "  Independent tasks can run simultaneously using multiple threads, reducing total execution time.\n",
        "\n",
        "  Example:\n",
        "  A photo editor can load images, apply filters, and save files in separate threads to speed up operations.\n",
        "\n",
        "  4. Real-Time Data Processing\n",
        "  Especially for: Sensors, monitoring systems, live feeds\n",
        "  Threads can be dedicated to continuously listening for new data while others analyze or display it.\n",
        "\n",
        "  Example:\n",
        "  A stock trading app can use one thread to pull market data and another to execute trades.\n",
        "\n",
        "  5. Parallelism on Multi-Core Systems\n",
        "  Especially for: CPU-bound tasks (but better suited to multiprocessing)\n",
        "  On multi-core processors, threads can theoretically run in parallel, though Python’s Global Interpreter Lock (GIL) limits true parallelism in CPython (see note below)."
      ],
      "metadata": {
        "id": "ZEfqpZJ1yrkH"
      }
    },
    {
      "cell_type": "markdown",
      "source": [
        "# Practical Question"
      ],
      "metadata": {
        "id": "YKaycUew8q7e"
      }
    },
    {
      "cell_type": "code",
      "source": [
        "#How can you open a file for writing in Python and write a string to it?\n",
        "\n",
        "with open(\"filename.txt\", \"w\") as file:\n",
        "    file.write(\"This is a sample string.\")\n",
        "\n"
      ],
      "metadata": {
        "id": "U69jCf3980ks"
      },
      "execution_count": 1,
      "outputs": []
    },
    {
      "cell_type": "code",
      "source": [
        "#Write a Python program to read the contents of a file and print each line?\n",
        "\n",
        "with open(\"filename.txt\", \"r\") as file:\n",
        "    for line in file:\n",
        "        print(line.strip())"
      ],
      "metadata": {
        "colab": {
          "base_uri": "https://localhost:8080/"
        },
        "id": "x-QBEi1o82dW",
        "outputId": "895124d1-1784-4d6b-9538-94d90cb22af1"
      },
      "execution_count": 2,
      "outputs": [
        {
          "output_type": "stream",
          "name": "stdout",
          "text": [
            "This is a sample string.\n"
          ]
        }
      ]
    },
    {
      "cell_type": "code",
      "source": [
        "#How would you handle a case where the file doesn't exist while trying to open it for reading?\n",
        "\n",
        "try:\n",
        "    with open(\"nonexistent_file.txt\", \"r\") as file:\n",
        "        for line in file:\n",
        "            print(line.strip())\n",
        "except FileNotFoundError:\n",
        "    print(\"Error: The file was not found.\")\n",
        "except Exception as e:\n",
        "    print(f\"An unexpected error occurred: {e}\")"
      ],
      "metadata": {
        "colab": {
          "base_uri": "https://localhost:8080/"
        },
        "id": "YvCKf6dE820m",
        "outputId": "b50651fe-8c40-4aa7-b3cf-e790b79734bf"
      },
      "execution_count": 4,
      "outputs": [
        {
          "output_type": "stream",
          "name": "stdout",
          "text": [
            "Error: The file was not found.\n"
          ]
        }
      ]
    },
    {
      "cell_type": "code",
      "source": [
        "#Write a Python script that reads from one file and writes its content to another file\n",
        "\n",
        "# Define the source and destination file names\n",
        "source_file = \"input.txt\"\n",
        "destination_file = \"output.txt\"\n",
        "\n",
        "try:\n",
        "\n",
        "    with open(source_file, \"r\") as src, open(destination_file, \"w\") as dest:\n",
        "\n",
        "        content = src.read()\n",
        "        dest.write(content)\n",
        "    print(f\"Content copied from {source_file} to {destination_file} successfully.\")\n",
        "except FileNotFoundError:\n",
        "    print(f\"Error: The file {source_file} does not exist.\")\n",
        "except IOError as e:\n",
        "    print(f\"An I/O error occurred: {e}\")\n"
      ],
      "metadata": {
        "colab": {
          "base_uri": "https://localhost:8080/"
        },
        "id": "UPlHYgH_83CO",
        "outputId": "6aba4f3f-331a-4eb3-f323-18fa7d0ebb28"
      },
      "execution_count": 6,
      "outputs": [
        {
          "output_type": "stream",
          "name": "stdout",
          "text": [
            "Error: The file input.txt does not exist.\n"
          ]
        }
      ]
    },
    {
      "cell_type": "code",
      "source": [
        "#How would you catch and handle division by zero error in Python?\n",
        "\n",
        "try:\n",
        "    result = 10 / 0\n",
        "except ZeroDivisionError:\n",
        "    print(\"Error: Division by zero is not allowed.\")\n",
        "except Exception as e:\n",
        "    print(f\"An unexpected error occurred: {e}\")"
      ],
      "metadata": {
        "colab": {
          "base_uri": "https://localhost:8080/"
        },
        "id": "t0XItRzW83Io",
        "outputId": "5d61a3ee-211c-4795-e511-5bfe1ba45825"
      },
      "execution_count": 7,
      "outputs": [
        {
          "output_type": "stream",
          "name": "stdout",
          "text": [
            "Error: Division by zero is not allowed.\n"
          ]
        }
      ]
    },
    {
      "cell_type": "code",
      "source": [
        "#Write a Python program that logs an error message to a log file when a division by zero exception occurs\n",
        "\n",
        "import logging\n",
        "\n",
        "logging.basicConfig(filename=\"error_log.txt\", level=logging.ERROR)\n",
        "\n",
        "try:\n",
        "    result = 10 / 0\n",
        "except ZeroDivisionError:\n",
        "    logging.error(\"Division by zero error occurred.\")"
      ],
      "metadata": {
        "colab": {
          "base_uri": "https://localhost:8080/"
        },
        "id": "o00Nfae383OS",
        "outputId": "119fc27d-00f6-47ad-edf8-9af883d7d8dc"
      },
      "execution_count": 8,
      "outputs": [
        {
          "output_type": "stream",
          "name": "stderr",
          "text": [
            "ERROR:root:Division by zero error occurred.\n"
          ]
        }
      ]
    },
    {
      "cell_type": "code",
      "source": [
        "#How do you log information at different levels (INFO, ERROR, WARNING) in Python using the logging module?\n",
        "\n",
        "import logging\n",
        "\n",
        "logging.basicConfig(filename=\"log_file.txt\", level=logging.INFO)\n",
        "\n",
        "logging.info(\"This is an informational message.\")\n",
        "logging.warning(\"This is a warning message.\")\n",
        "logging.error(\"This is an error message.\")"
      ],
      "metadata": {
        "colab": {
          "base_uri": "https://localhost:8080/"
        },
        "id": "soHHEEoo83Sb",
        "outputId": "45a5de0a-69e1-4735-f8c9-d94267652e07"
      },
      "execution_count": 9,
      "outputs": [
        {
          "output_type": "stream",
          "name": "stderr",
          "text": [
            "WARNING:root:This is a warning message.\n",
            "ERROR:root:This is an error message.\n"
          ]
        }
      ]
    },
    {
      "cell_type": "code",
      "source": [
        "#Write a program to handle a file opening error using exception handling?\n",
        "\n",
        "filename = \"example.txt\"\n",
        "\n",
        "try:\n",
        "    with open(filename, \"r\") as file:\n",
        "        content = file.read()\n",
        "        print(\"File content:\")\n",
        "        print(content)\n",
        "except FileNotFoundError:\n",
        "    print(f\"Error: The file '{filename}' was not found.\")\n",
        "except IOError:\n",
        "    print(f\"Error: Could not read the file '{filename}'.\")\n"
      ],
      "metadata": {
        "colab": {
          "base_uri": "https://localhost:8080/"
        },
        "id": "PNp0B6J983px",
        "outputId": "8a19d6ab-5656-461a-84b6-5e5883c0a3f6"
      },
      "execution_count": 11,
      "outputs": [
        {
          "output_type": "stream",
          "name": "stdout",
          "text": [
            "Error: The file 'example.txt' was not found.\n"
          ]
        }
      ]
    },
    {
      "cell_type": "code",
      "source": [
        "#How can you read a file line by line and store its content in a list in Python?\n",
        "\n",
        "filename = \"filename.txt\"\n",
        "\n",
        "with open(filename, \"r\") as file:\n",
        "    lines = [line.rstrip('\\n') for line in file]\n"
      ],
      "metadata": {
        "id": "53wBz3vt83wy"
      },
      "execution_count": 16,
      "outputs": []
    },
    {
      "cell_type": "code",
      "source": [
        "#How can you append data to an existing file in Python?\n",
        "\n",
        "filename = \"filename.txt\"\n",
        "\n",
        "with open(filename, \"a\") as file:\n",
        "    file.write(\"\\nNew line of text.\")"
      ],
      "metadata": {
        "id": "bNFoKXH5830l"
      },
      "execution_count": 17,
      "outputs": []
    },
    {
      "cell_type": "code",
      "source": [
        "#Write a Python program that uses a try-except block to handle an error when attempting to access a dictionary key that doesn't exist?\n",
        "\n",
        "my_dict = {\"a\": 1, \"b\": 2, \"c\": 3}\n",
        "\n",
        "try:\n",
        "    value = my_dict[\"d\"]\n",
        "except KeyError:\n",
        "    print(\"Error: The key 'd' does not exist in the dictionary.\")"
      ],
      "metadata": {
        "colab": {
          "base_uri": "https://localhost:8080/"
        },
        "id": "wv9BDNs68341",
        "outputId": "ad001890-6d7c-4107-c2ee-51b686ee41ca"
      },
      "execution_count": 18,
      "outputs": [
        {
          "output_type": "stream",
          "name": "stdout",
          "text": [
            "Error: The key 'd' does not exist in the dictionary.\n"
          ]
        }
      ]
    },
    {
      "cell_type": "code",
      "source": [
        "#Write a program that demonstrates using multiple except blocks to handle different types of exceptions\n",
        "\n",
        "try:\n",
        "    result = 10 / 0\n",
        "except ZeroDivisionError:\n",
        "    print(\"Error: Division by zero.\")\n",
        "except ValueError:\n",
        "    print(\"Error: Invalid value.\")\n",
        "except Exception as e:\n",
        "    print(f\"An unexpected error occurred: {e}\")"
      ],
      "metadata": {
        "colab": {
          "base_uri": "https://localhost:8080/"
        },
        "id": "w7RaUzV3838a",
        "outputId": "da7fdb3d-5161-4c2c-da30-60af2afffb38"
      },
      "execution_count": 19,
      "outputs": [
        {
          "output_type": "stream",
          "name": "stdout",
          "text": [
            "Error: Division by zero.\n"
          ]
        }
      ]
    },
    {
      "cell_type": "code",
      "source": [
        "#How would you check if a file exists before attempting to read it in Python\n",
        "\n",
        "import os\n",
        "\n",
        "filename = \"filename.txt\"\n",
        "\n",
        "if os.path.exists(filename):\n",
        "    with open(filename, \"r\") as file:\n",
        "        content = file.read()\n",
        "        print(\"File content:\")\n",
        "        print(content)\n",
        ""
      ],
      "metadata": {
        "colab": {
          "base_uri": "https://localhost:8080/"
        },
        "id": "coOuNfYH84CP",
        "outputId": "3d0df442-1a98-43be-b4c9-e0e7d397cc8b"
      },
      "execution_count": 20,
      "outputs": [
        {
          "output_type": "stream",
          "name": "stdout",
          "text": [
            "File content:\n",
            "This is a sample string.\n",
            "New line of text.\n"
          ]
        }
      ]
    },
    {
      "cell_type": "code",
      "source": [
        "#Write a program that uses the logging module to log both informational and error messages\n",
        "\n",
        "import logging\n",
        "\n",
        "logging.basicConfig(filename=\"log_file.txt\", level=logging.INFO)\n",
        "\n",
        "logging.info(\"This is an informational message.\")\n",
        "logging.error(\"This is an error message.\")"
      ],
      "metadata": {
        "colab": {
          "base_uri": "https://localhost:8080/"
        },
        "id": "s8vlLtMK84Fq",
        "outputId": "3d34cb37-af7f-4920-97e8-730bf279be3b"
      },
      "execution_count": 21,
      "outputs": [
        {
          "output_type": "stream",
          "name": "stderr",
          "text": [
            "ERROR:root:This is an error message.\n"
          ]
        }
      ]
    },
    {
      "cell_type": "code",
      "source": [
        "#Write a Python program that prints the content of a file and handles the case when the file is empty\n",
        "\n",
        "filename = \"filename.txt\"\n",
        "\n",
        "try:\n",
        "    with open(filename, \"r\") as file:\n",
        "        content = file.read()\n",
        "        if content:\n",
        "            print(\"File content:\")\n",
        "            print(content)\n",
        "        else:\n",
        "            print(\"The file is empty.\")\n",
        "except FileNotFoundError:\n",
        "    print(f\"Error: The file '{filename}' was not found.\")\n",
        "except IOError:\n",
        "    print(f\"Error: Could not read the file '{filename}'.\")\n",
        ""
      ],
      "metadata": {
        "colab": {
          "base_uri": "https://localhost:8080/"
        },
        "id": "0Kzvc_vx84Iu",
        "outputId": "51173b38-faf3-4962-f2b1-843110bbcfd3"
      },
      "execution_count": 22,
      "outputs": [
        {
          "output_type": "stream",
          "name": "stdout",
          "text": [
            "File content:\n",
            "This is a sample string.\n",
            "New line of text.\n"
          ]
        }
      ]
    },
    {
      "cell_type": "code",
      "source": [
        "#Write a Python program that prints the content of a file and handles the case when the file is empty\n",
        "\n",
        "filename = \"filename.txt\"\n",
        "\n",
        "try:\n",
        "    with open(filename, \"r\") as file:\n",
        "        content = file.read()\n",
        "        if content:\n",
        "            print(\"File content:\")\n",
        "            print(content)\n",
        "        else:\n",
        "            print(\"The file is empty.\")\n",
        "except FileNotFoundError:\n",
        "    print(f\"Error: The file '{filename}' was not found.\")\n",
        ""
      ],
      "metadata": {
        "colab": {
          "base_uri": "https://localhost:8080/"
        },
        "id": "B_FSSO2B84MH",
        "outputId": "f52607c1-5c03-472d-96b5-7c9515f4b9a7"
      },
      "execution_count": 23,
      "outputs": [
        {
          "output_type": "stream",
          "name": "stdout",
          "text": [
            "File content:\n",
            "This is a sample string.\n",
            "New line of text.\n"
          ]
        }
      ]
    },
    {
      "cell_type": "code",
      "source": [
        "#Write a Python program to create and write a list of numbers to a file, one number per line\n",
        "\n",
        "numbers = [1, 2, 3, 4, 5]\n",
        "\n",
        "filename = \"numbers.txt\"\n",
        "\n",
        "with open(filename, \"w\") as file:\n",
        "    for number in numbers:\n",
        "        file.write(str(number) + \"\\n\")\n",
        ""
      ],
      "metadata": {
        "id": "CFKuYJEh84PD"
      },
      "execution_count": 24,
      "outputs": []
    },
    {
      "cell_type": "code",
      "source": [
        "#How would you implement a basic logging setup that logs to a file with rotation after 1MB?\n",
        "\n",
        "import logging\n",
        "from logging.handlers import RotatingFileHandler\n",
        "\n",
        "logger = logging.getLogger(\"MyLogger\")\n",
        "logger.setLevel(logging.DEBUG)\n",
        "\n",
        "handler = RotatingFileHandler(\"app.log\", maxBytes=1_000_000, backupCount=3)\n",
        "handler.setLevel(logging.DEBUG)\n",
        "\n",
        "formatter = logging.Formatter('%(asctime)s - %(levelname)s - %(message)s')\n",
        "handler.setFormatter(formatter)\n",
        "\n",
        "logger.addHandler(handler)\n",
        "\n",
        "logger.debug(\"Debug message\")\n",
        "logger.info(\"Info message\")\n",
        "logger.warning(\"Warning message\")\n",
        "logger.error(\"Error message\")\n",
        "logger.critical(\"Critical message\")\n"
      ],
      "metadata": {
        "colab": {
          "base_uri": "https://localhost:8080/"
        },
        "id": "emfvFIoi84X8",
        "outputId": "973008ba-f452-4616-cf7a-738914fb64d2"
      },
      "execution_count": 25,
      "outputs": [
        {
          "output_type": "stream",
          "name": "stderr",
          "text": [
            "DEBUG:MyLogger:Debug message\n",
            "INFO:MyLogger:Info message\n",
            "WARNING:MyLogger:Warning message\n",
            "ERROR:MyLogger:Error message\n",
            "CRITICAL:MyLogger:Critical message\n"
          ]
        }
      ]
    },
    {
      "cell_type": "code",
      "source": [
        "#Write a program that handles both IndexError and KeyError using a try-except block\n",
        "\n",
        "my_list = [1, 2, 3]\n",
        "\n",
        "try:\n",
        "    value = my_list[5]\n",
        "except IndexError:\n",
        "    print(\"Error: Index out of range.\")\n",
        "except KeyError:\n",
        "    print(\"Error: Key not found in dictionary.\")\n",
        ""
      ],
      "metadata": {
        "colab": {
          "base_uri": "https://localhost:8080/"
        },
        "id": "ii_YRbGI84by",
        "outputId": "27935559-6574-42d7-d640-97b339cd5907"
      },
      "execution_count": 26,
      "outputs": [
        {
          "output_type": "stream",
          "name": "stdout",
          "text": [
            "Error: Index out of range.\n"
          ]
        }
      ]
    },
    {
      "cell_type": "code",
      "source": [
        "#How would you open a file and read its contents using a context manager in Python?\n",
        "\n",
        "with open(\"filename.txt\", \"r\") as file:\n",
        "    content = file.read()\n",
        "    print(content)"
      ],
      "metadata": {
        "colab": {
          "base_uri": "https://localhost:8080/"
        },
        "id": "WnUnwfja84fS",
        "outputId": "a4af9b49-cd9a-4c39-b3be-503ac1500b3b"
      },
      "execution_count": 27,
      "outputs": [
        {
          "output_type": "stream",
          "name": "stdout",
          "text": [
            "This is a sample string.\n",
            "New line of text.\n"
          ]
        }
      ]
    },
    {
      "cell_type": "code",
      "source": [
        "#Write a Python program that reads a file and prints the number of occurrences of a specific word\n",
        "\n",
        "filename = \"filename.txt\"\n",
        "word = \"word\"\n",
        "\n",
        "with open(filename, \"r\") as file:\n",
        "    content = file.read()\n",
        "    word_count = content.count(word)\n",
        "    print(f\"The word '{word}' appears {word_count} times in the file.\")\n",
        "\n"
      ],
      "metadata": {
        "colab": {
          "base_uri": "https://localhost:8080/"
        },
        "id": "Cq6P2rxz8452",
        "outputId": "1fd4f891-5cd9-440e-fb92-2aef40a79b14"
      },
      "execution_count": 29,
      "outputs": [
        {
          "output_type": "stream",
          "name": "stdout",
          "text": [
            "The word 'word' appears 0 times in the file.\n"
          ]
        }
      ]
    },
    {
      "cell_type": "code",
      "source": [
        "# How can you check if a file is empty before attempting to read its contents?\n",
        "\n",
        "filename = \"filename.txt\"\n",
        "\n",
        "try:\n",
        "    with open(filename, \"r\") as file:\n",
        "        content = file.read()\n",
        "        if content:\n",
        "            print(\"File content:\")\n",
        "            print(content)\n",
        "        else:\n",
        "            print(\"The file is empty.\")\n",
        "except FileNotFoundError:\n",
        "    print(f\"Error: The file '{filename}' was not found.\")\n",
        "except IOError:\n",
        "    print(f\"Error: Could not read the file '{filename}'.\")"
      ],
      "metadata": {
        "colab": {
          "base_uri": "https://localhost:8080/"
        },
        "id": "p0S5bVi-B0lW",
        "outputId": "75aacae8-716a-4c1d-a679-f9be2550907d"
      },
      "execution_count": 30,
      "outputs": [
        {
          "output_type": "stream",
          "name": "stdout",
          "text": [
            "File content:\n",
            "This is a sample string.\n",
            "New line of text.\n"
          ]
        }
      ]
    },
    {
      "cell_type": "code",
      "source": [
        "# Write a Python program that writes to a log file when an error occurs during file handling\n",
        "\n",
        "import logging\n",
        "\n",
        "logging.basicConfig(\n",
        "    filename='file_errors.log',\n",
        "    level=logging.ERROR,\n",
        "    format='%(asctime)s - %(levelname)s - %(message)s'\n",
        ")\n",
        "\n",
        "filename = \"example.txt\"\n",
        "\n",
        "try:\n",
        "    with open(filename, \"r\") as file:\n",
        "        content = file.read()\n",
        "        print(\"File content read successfully.\")\n",
        "except Exception as e:\n",
        "    logging.error(f\"Failed to open/read file '{filename}': {e}\")\n",
        "    print(f\"An error occurred. Check 'file_errors.log' for details.\")\n"
      ],
      "metadata": {
        "colab": {
          "base_uri": "https://localhost:8080/"
        },
        "id": "U6auM8Z3B1CD",
        "outputId": "e8484640-0a6d-4d53-e4c5-609e120f7eea"
      },
      "execution_count": 31,
      "outputs": [
        {
          "output_type": "stream",
          "name": "stderr",
          "text": [
            "ERROR:root:Failed to open/read file 'example.txt': [Errno 2] No such file or directory: 'example.txt'\n"
          ]
        },
        {
          "output_type": "stream",
          "name": "stdout",
          "text": [
            "An error occurred. Check 'file_errors.log' for details.\n"
          ]
        }
      ]
    }
  ]
}